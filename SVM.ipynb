{
 "cells": [
  {
   "cell_type": "code",
   "execution_count": 1,
   "id": "0ee3faa6",
   "metadata": {},
   "outputs": [],
   "source": [
    "import statistics\n",
    "\n",
    "import numpy as np\n",
    "from sklearn.datasets import load_digits\n",
    "from sklearn.model_selection import train_test_split\n",
    "from sklearn.svm import SVC\n",
    "from sklearn.metrics import confusion_matrix, accuracy_score\n",
    "import pandas as pd\n",
    "import math\n",
    "import seaborn as sns\n",
    "import random as r\n",
    "import time\n"
   ]
  },
  {
   "cell_type": "code",
   "execution_count": 2,
   "id": "5f1d479e",
   "metadata": {},
   "outputs": [
    {
     "name": "stdout",
     "output_type": "stream",
     "text": [
      "98.92063492063492 Czas: 1.8136475086212158\n"
     ]
    }
   ],
   "source": [
    "dataset = pd.read_csv(\"numbers_smaller.csv\")\n",
    "X=dataset.drop('label', axis=1)\n",
    "accuracy = []\n",
    "timet = []\n",
    "y=dataset.label\n",
    "for i in range(10):\n",
    "    st = time.time()\n",
    "    n = r.randint(1, 15900)\n",
    "    x_train, x_test, y_train, y_test = train_test_split(X, y, test_size=0.30, random_state=n)\n",
    "    Classifier = SVC(kernel=\"linear\")\n",
    "\n",
    "    # Training the model on the training data and labels\n",
    "    Classifier.fit(x_train, y_train)\n",
    "\n",
    "    # Using the model to predict the labels of the test data\n",
    "    y_pred = Classifier.predict(x_test)\n",
    "\n",
    "    # Evaluating the accuracy of the model using the sklearn functions\n",
    "    accuracy.append(accuracy_score(y_test,y_pred)*100)\n",
    "    confusion_mat = confusion_matrix(y_test,y_pred)\n",
    "    timet.append(time.time()-st)\n",
    "print(str(sum(accuracy)/len(accuracy)) + \" Czas: \" + str(sum(timet)/len(timet)))"
   ]
  },
  {
   "cell_type": "code",
   "execution_count": null,
   "id": "28c99b44",
   "metadata": {},
   "outputs": [],
   "source": []
  },
  {
   "cell_type": "code",
   "execution_count": null,
   "id": "cb5edb29",
   "metadata": {},
   "outputs": [],
   "source": []
  },
  {
   "cell_type": "code",
   "execution_count": null,
   "id": "dceae16d",
   "metadata": {},
   "outputs": [],
   "source": []
  }
 ],
 "metadata": {
  "kernelspec": {
   "display_name": "Python 3 (ipykernel)",
   "language": "python",
   "name": "python3"
  },
  "language_info": {
   "codemirror_mode": {
    "name": "ipython",
    "version": 3
   },
   "file_extension": ".py",
   "mimetype": "text/x-python",
   "name": "python",
   "nbconvert_exporter": "python",
   "pygments_lexer": "ipython3",
   "version": "3.9.13"
  }
 },
 "nbformat": 4,
 "nbformat_minor": 5
}
