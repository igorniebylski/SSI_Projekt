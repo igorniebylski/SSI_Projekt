{
 "cells": [
  {
   "cell_type": "code",
   "execution_count": 62,
   "id": "0ee3faa6",
   "metadata": {},
   "outputs": [],
   "source": [
    "import statistics\n",
    "\n",
    "import numpy as np\n",
    "from sklearn.model_selection import train_test_split\n",
    "from sklearn.naive_bayes import GaussianNB, MultinomialNB, BernoulliNB, ComplementNB, CategoricalNB\n",
    "from sklearn.metrics import confusion_matrix, accuracy_score\n",
    "import pandas as pd\n",
    "import random as r\n",
    "import time\n"
   ]
  },
  {
   "cell_type": "code",
   "execution_count": 63,
   "id": "5f1d479e",
   "metadata": {},
   "outputs": [],
   "source": [
    "dataset = pd.read_csv(\"numbers.csv\").copy()\n",
    "X=dataset.drop('label', axis=1)\n",
    "def bayes(nb):\n",
    "    accuracy = []\n",
    "    timer = []\n",
    "    y=dataset.label\n",
    "    for i in range(10):\n",
    "        time_start = time.time()\n",
    "        n = r.randint(1, 15900)\n",
    "        x_train, x_test, y_train, y_test = train_test_split(X, y, test_size=0.30, random_state=n)\n",
    "        GNB= nb()\n",
    "\n",
    "        # Training the model on the training data and labels\n",
    "        GNB.fit(x_train,y_train)\n",
    "\n",
    "        # Using the model to predict the labels of the test data\n",
    "        y_pred = GNB.predict(x_test)\n",
    "\n",
    "        # Evaluating the accuracy of the model using the sklearn functions\n",
    "        accuracy.append(accuracy_score(y_test,y_pred)*100)\n",
    "        confusion_mat = confusion_matrix(y_test,y_pred)\n",
    "        timer.append(time.time() - time_start)\n",
    "    print(\"mean accuracy\", str(sum(accuracy)/len(accuracy)) + \"\\nmean time: \" + str(sum(timer) / len(timer)))"
   ]
  },
  {
   "cell_type": "code",
   "execution_count": 64,
   "id": "28c99b44",
   "metadata": {},
   "outputs": [
    {
     "name": "stdout",
     "output_type": "stream",
     "text": [
      "mean accuracy 56.333333333333336\n",
      "mean time: 1.2352700710296631\n"
     ]
    }
   ],
   "source": [
    "bayes(GaussianNB)"
   ]
  },
  {
   "cell_type": "code",
   "execution_count": 65,
   "id": "cb5edb29",
   "metadata": {},
   "outputs": [
    {
     "name": "stdout",
     "output_type": "stream",
     "text": [
      "mean accuracy 82.51666666666665\n",
      "mean time: 0.621104073524475\n"
     ]
    }
   ],
   "source": [
    "bayes(MultinomialNB)"
   ]
  }
 ],
 "metadata": {
  "kernelspec": {
   "display_name": "Python 3 (ipykernel)",
   "language": "python",
   "name": "python3"
  },
  "language_info": {
   "codemirror_mode": {
    "name": "ipython",
    "version": 3
   },
   "file_extension": ".py",
   "mimetype": "text/x-python",
   "name": "python",
   "nbconvert_exporter": "python",
   "pygments_lexer": "ipython3",
   "version": "3.9.13"
  }
 },
 "nbformat": 4,
 "nbformat_minor": 5
}
